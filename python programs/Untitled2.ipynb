{
 "cells": [
  {
   "cell_type": "code",
   "execution_count": 39,
   "metadata": {},
   "outputs": [
    {
     "data": {
      "image/png": "[encoded data removed]",
      "text/plain": [
       "<Figure size 432x288 with 1 Axes>"
      ]
     },
     "metadata": {
      "needs_background": "light"
     },
     "output_type": "display_data"
    }
   ],
   "source": [
    "# Importing required packages\n",
    "import matplotlib.pyplot as plt\n",
    "import pandas as pd\n",
    "# Reading data from excel sheet\n",
    "data = pd.read_excel(\"Sample - Superstore.xls\",\"Orders\")\n",
    "# Print only 50 rows\n",
    "#final = data.head(50)\n",
    "Furnitire_Category = data[(data.Category == \"Furniture\")]\n",
    "f_sum = Furnitire_Category.groupby(['Region'],as_index=False)[['Quantity']].sum()\n",
    "#print(f_sum)\n",
    "Office_Category = data[(data.Category == \"Office Supplies\")]\n",
    "o_sum = Office_Category.groupby(['Region'],as_index=False)[['Quantity']].sum()\n",
    "#print(o_sum)\n",
    "Technology_Category = data[(data.Category == \"Technology\")]\n",
    "t_sum = Technology_Category.groupby(['Region'],as_index=False)[['Quantity']].sum()\n",
    "# print(t_sum)\n",
    "# Print only sales column\n",
    "# print(data[\"Sales\"])\n",
    "#sum_category = final.groupby(['Region','Category'],as_index=False)[['Quantity']].sum()\n",
    "#Category_Plot = sum_category[\"Category\"]\n",
    "#Quantity_Plot = sum_category[\"Quantity\"]\n",
    "F_Quantity_Plot= f_sum[\"Quantity\"];\n",
    "F_Region_Plot = f_sum[\"Region\"]\n",
    "O_Quantity_Plot= o_sum[\"Quantity\"];\n",
    "O_Region_Plot = o_sum[\"Region\"]\n",
    "\n",
    "#fig = plt.figure()\n",
    "#ax = fig.add_subplot()\n",
    "\n",
    "\n",
    "\n",
    "plt.bar(F_Region_Plot,F_Quantity_Plot,color=\"orange\",label=\"Furniture\")\n",
    "\n",
    "plt.bar(O_Region_Plot,O_Quantity_Plot,color=\"green\",label=\"Office\")\n",
    "\n",
    "\n",
    "\n",
    "#O_Quantity_Plot= o_sum[\"Quantity\"];O_Region_Plot = o_sum[\"Region\"]\n",
    "#plt.bar(O_Quantity_Plot,O_Region_Plot)\n",
    "#T_Quantity_Plot= t_sum[\"Quantity\"];T_Region_Plot = t_sum[\"Region\"]\n",
    "#plt.bar(T_Quantity_Plot,T_Region_Plot)\n",
    "# sum_category.plot.bar()\n",
    "plt.show()\n",
    "#plt.show(b)\n",
    "# filtering with query method"
   ]
  },
  {
   "cell_type": "code",
   "execution_count": null,
   "metadata": {},
   "outputs": [],
   "source": []
  }
 ],
 "metadata": {
  "kernelspec": {
   "display_name": "Python 3",
   "language": "python",
   "name": "python3"
  },
  "language_info": {
   "codemirror_mode": {
    "name": "ipython",
    "version": 3
   },
   "file_extension": ".py",
   "mimetype": "text/x-python",
   "name": "python",
   "nbconvert_exporter": "python",
   "pygments_lexer": "ipython3",
   "version": "3.7.4"
  }
 },
 "nbformat": 4,
 "nbformat_minor": 2
}
