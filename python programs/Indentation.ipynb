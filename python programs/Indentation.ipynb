{
 "cells": [
  {
   "cell_type": "markdown",
   "metadata": {},
   "source": [
    "# Python Indentation\n",
    "Indentation refers to the spaces at the beginning of a code line."
   ]
  },
  {
   "cell_type": "code",
   "execution_count": 17,
   "metadata": {},
   "outputs": [
    {
     "name": "stdout",
     "output_type": "stream",
     "text": [
      "3 is greater\n"
     ]
    }
   ],
   "source": [
    "a=2\n",
    "b=3\n",
    "if a > b:\n",
    "    print('2 is greater')\n",
    "else:\n",
    "    print ('3 is greater')"
   ]
  },
  {
   "cell_type": "markdown",
   "metadata": {},
   "source": [
    "## Below is an example for Error throwing syntax of Indentation"
   ]
  },
  {
   "cell_type": "code",
   "execution_count": 20,
   "metadata": {},
   "outputs": [
    {
     "name": "stdout",
     "output_type": "stream",
     "text": [
      "3 is greater\n"
     ]
    }
   ],
   "source": [
    "a=2\n",
    "b=3\n",
    "if a > b:\n",
    "print('2 is greater') #there should be a tab space before print keyword.\n",
    "else:\n",
    "print ('3 is greater')  #there should be a tab space before print keyword."
   ]
  },
  {
   "cell_type": "code",
   "execution_count": null,
   "metadata": {},
   "outputs": [],
   "source": []
  }
 ],
 "metadata": {
  "kernelspec": {
   "display_name": "Python 3",
   "language": "python",
   "name": "python3"
  },
  "language_info": {
   "codemirror_mode": {
    "name": "ipython",
    "version": 3
   },
   "file_extension": ".py",
   "mimetype": "text/x-python",
   "name": "python",
   "nbconvert_exporter": "python",
   "pygments_lexer": "ipython3",
   "version": "3.7.4"
  }
 },
 "nbformat": 4,
 "nbformat_minor": 2
}
