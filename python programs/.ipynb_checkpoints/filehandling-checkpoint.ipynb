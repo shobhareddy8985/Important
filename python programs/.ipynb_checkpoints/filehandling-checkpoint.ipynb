{
 "cells": [
  {
   "cell_type": "markdown",
   "metadata": {},
   "source": [
    "# file open \n",
    "\n",
    "t =text mode \n",
    "b =binary mode\n",
    "r=read mode"
   ]
  },
  {
   "cell_type": "code",
   "execution_count": 2,
   "metadata": {},
   "outputs": [],
   "source": [
    "f =open(\"demo.txt\",\"rt\")"
   ]
  },
  {
   "cell_type": "markdown",
   "metadata": {},
   "source": [
    "# file reading"
   ]
  },
  {
   "cell_type": "code",
   "execution_count": 3,
   "metadata": {},
   "outputs": [
    {
     "name": "stdout",
     "output_type": "stream",
     "text": [
      "Hi\n",
      "hello\n",
      "welcome\n",
      "\n",
      "\n",
      "\n",
      "\n",
      "\n"
     ]
    }
   ],
   "source": [
    "f =open(\"demo.txt\",\"rt\")\n",
    "print(f.read())\n",
    "\n",
    "# to display only the 5 letters \n",
    "print(f.read(5)) \n",
    "\n",
    "\n",
    "# to display only the firstline\n",
    "print(f.readline())\n",
    "\n",
    "# to display first 2 lines we can you readline() method 2 times\n",
    "\n",
    "print(f.readline())\n",
    "\n",
    "print(f.readline())\n"
   ]
  },
  {
   "cell_type": "markdown",
   "metadata": {},
   "source": [
    "# To write into the existing file\n",
    "\n",
    "To write to an existing file, you must add a parameter to the open() function:\n",
    "\n",
    "\"a\" - Append - will append to the end of the file\n",
    "\n",
    "\"w\" - Write - will overwrite any existing content\n",
    "\n"
   ]
  },
  {
   "cell_type": "code",
   "execution_count": 8,
   "metadata": {},
   "outputs": [
    {
     "name": "stdout",
     "output_type": "stream",
     "text": [
      "Hi\n",
      "hello\n",
      "welcome\n",
      "i am appeded texti am appeded texti am appeded texti am appeded texti am appeded\n"
     ]
    }
   ],
   "source": [
    "f=open(\"demo.txt\",'a')\n",
    "f.write(\"i am appeded\")\n",
    "f.close()\n",
    "\n",
    "f=open(\"demo.txt\",'r')\n",
    "print(f.read())"
   ]
  },
  {
   "cell_type": "markdown",
   "metadata": {},
   "source": [
    "# To create a new file\n",
    "\n",
    "To create a new file in Python, use the open() method, with one of the following parameters:\n",
    "\n",
    "\"x\" - Create - will create a file, returns an error if the file exist\n",
    "\n",
    "\"a\" - Append - will create a file if the specified file does not exist\n",
    "\n",
    "\"w\" - Write - will create a file if the specified file does not exist"
   ]
  },
  {
   "cell_type": "code",
   "execution_count": 35,
   "metadata": {},
   "outputs": [
    {
     "name": "stdout",
     "output_type": "stream",
     "text": [
      "hello i am newly create filei am appended text\n"
     ]
    }
   ],
   "source": [
    "\n",
    "\n",
    "f = open(\"demo4.txt\", \"x\") \n",
    "f.write(\"hello i am newly create file\")\n",
    "f.close()\n",
    "f = open(\"demo4.txt\", \"a\") \n",
    "f.write(\"i am appended text\")\n",
    "f.close()\n",
    "f = open(\"demo4.txt\", \"r\") \n",
    "print(f.read())\n"
   ]
  },
  {
   "cell_type": "markdown",
   "metadata": {},
   "source": [
    "# To delete a file\n",
    "To delete a file, you must import the OS module, and run its os.remove() function:"
   ]
  },
  {
   "cell_type": "code",
   "execution_count": 42,
   "metadata": {},
   "outputs": [],
   "source": [
    "#ex:1\n",
    "\n",
    "import os\n",
    "os.remove(\"demo2.txt\")\n",
    "\n"
   ]
  },
  {
   "cell_type": "code",
   "execution_count": 41,
   "metadata": {},
   "outputs": [
    {
     "name": "stdout",
     "output_type": "stream",
     "text": [
      "The file does not exist\n"
     ]
    }
   ],
   "source": [
    "#ex:2 if file exist delete then delete.\n",
    "\n",
    "import os\n",
    "if os.path.exists(\"demo3.txt\"):\n",
    "    os.remove(\"demo3.txt\")\n",
    "else:\n",
    "    print(\"The file does not exist\")\n"
   ]
  },
  {
   "cell_type": "code",
   "execution_count": null,
   "metadata": {},
   "outputs": [],
   "source": []
  }
 ],
 "metadata": {
  "kernelspec": {
   "display_name": "Python 3",
   "language": "python",
   "name": "python3"
  },
  "language_info": {
   "codemirror_mode": {
    "name": "ipython",
    "version": 3
   },
   "file_extension": ".py",
   "mimetype": "text/x-python",
   "name": "python",
   "nbconvert_exporter": "python",
   "pygments_lexer": "ipython3",
   "version": "3.7.4"
  }
 },
 "nbformat": 4,
 "nbformat_minor": 2
}
