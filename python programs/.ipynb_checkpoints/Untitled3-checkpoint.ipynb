{
 "cells": [
  {
   "cell_type": "code",
   "execution_count": null,
   "metadata": {},
   "outputs": [],
   "source": [
    "import snowflake.connector as sf\n",
    "from snowflake.connector import DictCursor\n",
    "from pandas import DataFrame\n",
    "import pickle\n",
    "import csv\n",
    "import pandas as pd\n",
    "#pickle.dump(result, open(\"sample.pkl\",\"wb\"))\n",
    "conn = sf.connect (user='diyotta',password='D!y0tt@SF',account='diyotta.us-east-1',Warehouse='DIYOTTA',database='DEMO_SRC')\n",
    "def execute_query(connection,query) :\n",
    "    cursor = conn.cursor()\n",
    "    cursor.execute(query)\n",
    "    cursor.close()\n",
    "try:\n",
    "    sql = 'use warehouse {}'.format('DIYOTTA')\n",
    "    execute_query(conn,sql)\n",
    "    sql = 'select * from DEMO_SRC.PUBLIC.EMPLOYEE'\n",
    "    cursor = conn.cursor(DictCursor)\n",
    "    cursor.execute(sql)\n",
    "    l = []\n",
    "    for c in cursor:\n",
    "        l.append(c)\n",
    "    cursor.close()\n",
    "finally:\n",
    "    conn.close()\n",
    "    #print(l)\n",
    "    csv_columns =['ID','NAME','GENDER','SALARY','DEPARTMENT']\n",
    "    dict_data = l\n",
    "    my_df = pd.DataFrame(dict_data)\n",
    "    my_df.to_csv('output.csv', index=False, header=True)\n",
    "    pt =pd.read_csv(\"output.csv\")\n",
    "    print(pt)"
   ]
  }
 ],
 "metadata": {
  "kernelspec": {
   "display_name": "Python 3",
   "language": "python",
   "name": "python3"
  },
  "language_info": {
   "codemirror_mode": {
    "name": "ipython",
    "version": 3
   },
   "file_extension": ".py",
   "mimetype": "text/x-python",
   "name": "python",
   "nbconvert_exporter": "python",
   "pygments_lexer": "ipython3",
   "version": "3.7.4"
  }
 },
 "nbformat": 4,
 "nbformat_minor": 2
}
