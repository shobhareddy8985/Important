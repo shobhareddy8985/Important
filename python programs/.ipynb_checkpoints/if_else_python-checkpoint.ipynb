{
 "cells": [
  {
   "cell_type": "code",
   "execution_count": 4,
   "metadata": {},
   "outputs": [
    {
     "name": "stdout",
     "output_type": "stream",
     "text": [
      "enter your age25\n",
      "you are major\n"
     ]
    }
   ],
   "source": [
    "age =int(input(\"enter your age\"))\n",
    "\n",
    "if age >=18:\n",
    "    print(\"you are major\")\n",
    "else:\n",
    "        print(\"you are minor\")"
   ]
  },
  {
   "cell_type": "code",
   "execution_count": 6,
   "metadata": {},
   "outputs": [
    {
     "name": "stdout",
     "output_type": "stream",
     "text": [
      "Enter the marks? 90\n",
      "Congrats ! you scored grade A ...\n"
     ]
    }
   ],
   "source": [
    "marks1 = int(input(\"Enter the marks? \"))  \n",
    "if marks1 > 85 and marks1 <= 100:  \n",
    "   print(\"Congrats ! you scored grade A ...\")  \n",
    "elif marks1 > 60 and marks1 <= 85:  \n",
    "   print(\"You scored grade B + ...\")  \n",
    "elif marks1 > 40 and marks1 <= 60:  \n",
    "   print(\"You scored grade B ...\")  \n",
    "elif (marks1 > 30 and marks1 <= 40):  \n",
    "   print(\"You scored grade C ...\")  \n",
    "else:  \n",
    "   print(\"Sorry you are fail ?\")  "
   ]
  },
  {
   "cell_type": "code",
   "execution_count": 7,
   "metadata": {},
   "outputs": [
    {
     "name": "stdout",
     "output_type": "stream",
     "text": [
      "hello\n",
      "The inputted string is: hello\n"
     ]
    }
   ],
   "source": [
    "inputString = input()\n",
    "print('The inputted string is:', inputString)"
   ]
  },
  {
   "cell_type": "code",
   "execution_count": 12,
   "metadata": {},
   "outputs": [
    {
     "name": "stdout",
     "output_type": "stream",
     "text": [
      "item matched\n",
      "found at 2 location\n"
     ]
    }
   ],
   "source": [
    "list =[1,2,3,4]  \n",
    "count = 1;  \n",
    "for i in list:  \n",
    "    if i == 4:  \n",
    "        print(\"item matched\")  \n",
    "        break  \n",
    "count = count + 1;  \n",
    "print(\"found at\",count,\"location\");  "
   ]
  },
  {
   "cell_type": "code",
   "execution_count": null,
   "metadata": {},
   "outputs": [],
   "source": []
  }
 ],
 "metadata": {
  "kernelspec": {
   "display_name": "Python 3",
   "language": "python",
   "name": "python3"
  },
  "language_info": {
   "codemirror_mode": {
    "name": "ipython",
    "version": 3
   },
   "file_extension": ".py",
   "mimetype": "text/x-python",
   "name": "python",
   "nbconvert_exporter": "python",
   "pygments_lexer": "ipython3",
   "version": "3.7.4"
  }
 },
 "nbformat": 4,
 "nbformat_minor": 2
}
