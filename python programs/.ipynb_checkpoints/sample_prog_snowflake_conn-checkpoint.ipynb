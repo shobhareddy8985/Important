{
 "cells": [
  {
   "cell_type": "code",
   "execution_count": 8,
   "metadata": {},
   "outputs": [
    {
     "ename": "AttributeError",
     "evalue": "module 'snowflake.connector' has no attribute 'connect'",
     "output_type": "error",
     "traceback": [
      "\u001b[1;31m---------------------------------------------------------------------------\u001b[0m",
      "\u001b[1;31mAttributeError\u001b[0m                            Traceback (most recent call last)",
      "\u001b[1;32m<ipython-input-8-7fb991d790d1>\u001b[0m in \u001b[0;36m<module>\u001b[1;34m\u001b[0m\n\u001b[0;32m      8\u001b[0m \u001b[1;31m#database='DEMO_SRC'\u001b[0m\u001b[1;33m\u001b[0m\u001b[1;33m\u001b[0m\u001b[1;33m\u001b[0m\u001b[0m\n\u001b[0;32m      9\u001b[0m \u001b[1;33m\u001b[0m\u001b[0m\n\u001b[1;32m---> 10\u001b[1;33m \u001b[0mconn\u001b[0m \u001b[1;33m=\u001b[0m \u001b[0msf\u001b[0m\u001b[1;33m.\u001b[0m\u001b[0mconnect\u001b[0m \u001b[1;33m(\u001b[0m\u001b[0muser\u001b[0m\u001b[1;33m=\u001b[0m\u001b[1;34m'diyotta'\u001b[0m\u001b[1;33m,\u001b[0m\u001b[0mpassword\u001b[0m\u001b[1;33m=\u001b[0m\u001b[1;34m'D!y0tt@SF'\u001b[0m\u001b[1;33m,\u001b[0m\u001b[0maccount\u001b[0m\u001b[1;33m=\u001b[0m\u001b[1;34m'diyotta.us-east-1'\u001b[0m\u001b[1;33m,\u001b[0m\u001b[0mWarehouse\u001b[0m\u001b[1;33m=\u001b[0m\u001b[1;34m'DIYOTTA'\u001b[0m\u001b[1;33m,\u001b[0m\u001b[0mdatabase\u001b[0m\u001b[1;33m=\u001b[0m\u001b[1;34m'DEMO_SRC'\u001b[0m\u001b[1;33m)\u001b[0m\u001b[1;33m\u001b[0m\u001b[1;33m\u001b[0m\u001b[0m\n\u001b[0m\u001b[0;32m     11\u001b[0m \u001b[1;32mdef\u001b[0m \u001b[0mexecute_query\u001b[0m\u001b[1;33m(\u001b[0m\u001b[0mconnection\u001b[0m\u001b[1;33m,\u001b[0m\u001b[0mquery\u001b[0m\u001b[1;33m)\u001b[0m\u001b[1;33m:\u001b[0m\u001b[1;33m\u001b[0m\u001b[1;33m\u001b[0m\u001b[0m\n\u001b[0;32m     12\u001b[0m     \u001b[0mcursor\u001b[0m \u001b[1;33m=\u001b[0m \u001b[0mconn\u001b[0m\u001b[1;33m.\u001b[0m\u001b[0mcursor\u001b[0m\u001b[1;33m(\u001b[0m\u001b[1;33m)\u001b[0m\u001b[1;33m\u001b[0m\u001b[1;33m\u001b[0m\u001b[0m\n",
      "\u001b[1;31mAttributeError\u001b[0m: module 'snowflake.connector' has no attribute 'connect'"
     ]
    }
   ],
   "source": [
    "import snowflake.connector as sf\n",
    "import pandas as pd\n",
    "\n",
    "#username='diyotta'\n",
    "#password='D!y0tt@SF'\n",
    "#account='diyotta.us-east-1'\n",
    "#warehouse='DIYOTTA'\n",
    "#database='DEMO_SRC'\n",
    "\n",
    "conn = sf.connect (user='diyotta',password='D!y0tt@SF',account='diyotta.us-east-1',Warehouse='DIYOTTA',database='DEMO_SRC')\n",
    "def execute_query(connection,query):\n",
    "    cursor = conn.cursor()\n",
    "    cursor.execute(query)\n",
    "    cursor.close()\n",
    "try:\n",
    "    sql = 'use warehouse {}'.format('DIYOTTA')\n",
    "    execute_query(conn,sql)\n",
    "    sql = 'select * from DEMO_SRC.PUBLIC.SPLT_NAME_3'\n",
    "    cursor = conn.cursor()\n",
    "    cursor.execute(sql)\n",
    "    for c in cursor:\n",
    "         print(c)\n",
    "except Exception as e:\n",
    "      print(e)\n"
   ]
  },
  {
   "cell_type": "code",
   "execution_count": null,
   "metadata": {},
   "outputs": [],
   "source": []
  },
  {
   "cell_type": "code",
   "execution_count": null,
   "metadata": {},
   "outputs": [],
   "source": []
  },
  {
   "cell_type": "code",
   "execution_count": null,
   "metadata": {},
   "outputs": [],
   "source": []
  },
  {
   "cell_type": "code",
   "execution_count": null,
   "metadata": {},
   "outputs": [],
   "source": []
  },
  {
   "cell_type": "code",
   "execution_count": null,
   "metadata": {},
   "outputs": [],
   "source": []
  },
  {
   "cell_type": "code",
   "execution_count": null,
   "metadata": {},
   "outputs": [],
   "source": []
  },
  {
   "cell_type": "code",
   "execution_count": null,
   "metadata": {},
   "outputs": [],
   "source": []
  }
 ],
 "metadata": {
  "kernelspec": {
   "display_name": "Python 3",
   "language": "python",
   "name": "python3"
  },
  "language_info": {
   "codemirror_mode": {
    "name": "ipython",
    "version": 3
   },
   "file_extension": ".py",
   "mimetype": "text/x-python",
   "name": "python",
   "nbconvert_exporter": "python",
   "pygments_lexer": "ipython3",
   "version": "3.7.4"
  }
 },
 "nbformat": 4,
 "nbformat_minor": 2
}
