{
 "cells": [
  {
   "cell_type": "code",
   "execution_count": 4,
   "metadata": {},
   "outputs": [
    {
     "name": "stdout",
     "output_type": "stream",
     "text": [
      "i am in myfunction body\n"
     ]
    }
   ],
   "source": [
    "#defining a function.\n",
    "\n",
    "def myfunction():\n",
    "    print(\"i am in myfunction body\")\n",
    "\n",
    "# calling a method.\n",
    "myfunction()\n"
   ]
  },
  {
   "cell_type": "code",
   "execution_count": 14,
   "metadata": {
    "collapsed": true
   },
   "outputs": [
    {
     "name": "stdout",
     "output_type": "stream",
     "text": [
      "my value is 5\n"
     ]
    }
   ],
   "source": [
    "# passing parameters to a function.\n",
    "\n",
    "def myfunction(a):\n",
    "    print(\"my value is\",a);\n",
    "    \n",
    "myfunction(5)\n",
    "    \n"
   ]
  },
  {
   "cell_type": "code",
   "execution_count": 16,
   "metadata": {},
   "outputs": [
    {
     "name": "stdout",
     "output_type": "stream",
     "text": [
      "my name is  shobha\n",
      "my age is   25\n"
     ]
    }
   ],
   "source": [
    "# passing parameters to a function.\n",
    "\n",
    "def func (name,age):  \n",
    "    print(\"my name is \",name)\n",
    "    print(\"my age is  \",age)\n",
    "  \n",
    "#calling the function   \n",
    "func(\"shobha\",25)   "
   ]
  },
  {
   "cell_type": "code",
   "execution_count": 27,
   "metadata": {},
   "outputs": [
    {
     "name": "stdout",
     "output_type": "stream",
     "text": [
      "enter your name :shobha\n",
      "enter your age:25\n",
      "my name is  shobha\n",
      "my age is   25\n"
     ]
    }
   ],
   "source": [
    "\n",
    "name = input(\"enter your name :\")\n",
    "age = int(input(\"enter your age:\"))\n",
    "def func ():  \n",
    "    print(\"my name is \",name)\n",
    "    print(\"my age is  \",age)   \n",
    "func()"
   ]
  },
  {
   "cell_type": "code",
   "execution_count": null,
   "metadata": {},
   "outputs": [],
   "source": []
  }
 ],
 "metadata": {
  "kernelspec": {
   "display_name": "Python 3",
   "language": "python",
   "name": "python3"
  },
  "language_info": {
   "codemirror_mode": {
    "name": "ipython",
    "version": 3
   },
   "file_extension": ".py",
   "mimetype": "text/x-python",
   "name": "python",
   "nbconvert_exporter": "python",
   "pygments_lexer": "ipython3",
   "version": "3.7.4"
  }
 },
 "nbformat": 4,
 "nbformat_minor": 2
}
