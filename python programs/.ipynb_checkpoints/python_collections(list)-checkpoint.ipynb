{
 "cells": [
  {
   "cell_type": "markdown",
   "metadata": {},
   "source": [
    "# Python Collections (Arrays)\n",
    "There are four collection data types in the Python programming language:\n",
    "\n",
    "List is a collection which is ordered and changeable. Allows duplicate members.\n",
    "Tuple is a collection which is ordered and unchangeable. Allows duplicate members.\n",
    "Set is a collection which is unordered and unindexed,changeable. No duplicate members.\n",
    "Dictionary is a collection which is unordered, changeable and indexed. No duplicate members."
   ]
  },
  {
   "cell_type": "markdown",
   "metadata": {},
   "source": [
    "# 1. List\n",
    "\n",
    "ordered means :order we insert the elements and the ordered we displayed/aceess is same.\n",
    "There is no change in the output.we can explicitly change the element in some specific position.\n",
    "unchangeable means: we can't add elements once it is created."
   ]
  },
  {
   "cell_type": "code",
   "execution_count": 5,
   "metadata": {},
   "outputs": [
    {
     "name": "stdout",
     "output_type": "stream",
     "text": [
      "5\n",
      "['shobha', 'geetha', 'chandu', 'shanthi', 'shobha', 'lakshmi']\n",
      "['shobha', 'geetha', 'chandu', 'devansh', 'shanthi', 'shobha', 'lakshmi']\n",
      "['shobha', 'geetha', 'chandu', 'devansh', 'shanthi', 'shobha', 'lakshmi']\n",
      "devansh\n",
      "['devansh', 'shanthi']\n",
      "lakshmi\n",
      "blackcurrant\n",
      "shobha\n",
      "blackcurrant\n",
      "chandu\n",
      "devansh\n",
      "shanthi\n",
      "shobha\n",
      "lakshmi\n",
      "['blackcurrant', 'chandu', 'devansh', 'shanthi', 'shobha', 'lakshmi']\n",
      "['blackcurrant', 'chandu', 'shanthi', 'shobha', 'lakshmi']\n",
      "[]\n",
      "['shobha', 'geetha']\n",
      "['shanthi', 'chandu']\n",
      "['shobha', 'geetha', 'shanthi', 'chandu']\n",
      "['shobha', 'geetha', 'shanthi']\n",
      "['shobha', 'geetha', 'shanthi', 'chandu']\n"
     ]
    }
   ],
   "source": [
    "mylist = ['shobha','geetha','chandu','shanthi','shobha']\n",
    " \n",
    "print(len(mylist))\n",
    "\n",
    "#adding an item at the last one in the list :append () it takes only one element\n",
    "mylist.append('lakshmi')\n",
    "print(mylist)\n",
    "\n",
    "#adding an item at specific index\n",
    "\n",
    "mylist.insert(3,'devansh')\n",
    "print(mylist)\n",
    "\n",
    "\n",
    "\n",
    "\n",
    "#Accessing the list \n",
    "print(mylist)\n",
    "print(mylist[3])\n",
    "print(mylist[3:5])\n",
    "print(mylist[-1])\n",
    "\n",
    "# changing the value of first element\n",
    "mylist[1] = \"blackcurrant\"\n",
    "\n",
    "print(mylist[1])\n",
    " \n",
    "\n",
    "# loop through list\n",
    "\n",
    "for x in mylist:\n",
    "    print(x)\n",
    "    \n",
    "#remove an item in the list :remove()\n",
    "\n",
    "mylist.remove('shobha')\n",
    "print(mylist)\n",
    "\n",
    "#remove an item in the specified position :pop()\n",
    "#The pop() method removes the specified index, (or the last item if index is not specified):\n",
    "\n",
    "mylist.pop(2)\n",
    "print(mylist)\n",
    "\n",
    "#clear the elements in a list : to empty the the list \n",
    "\n",
    "mylist.clear()\n",
    "print(mylist)\n",
    "\n",
    "#copy the list to another list  :using list() or copy ()\n",
    "\n",
    "thislist =list(mylist)\n",
    "\n",
    "thislist =['shobha','geetha']\n",
    "\n",
    "print(thislist)\n",
    "\n",
    "\n",
    "\n",
    "# using copy () method\n",
    "thatlist =mylist.copy()\n",
    "thatlist =['shanthi','chandu']  \n",
    "print(thatlist)\n",
    "\n",
    "#combining 2 lists :using for loop or  +  symbol\n",
    "\n",
    "myfinallist = thislist+thatlist\n",
    "\n",
    "print(myfinallist)\n",
    "\n",
    "\n",
    "for x in thatlist:\n",
    "    thislist.append(x)\n",
    "    print(thislist)\n",
    "\n",
    "\n",
    "\n",
    "\n",
    "\n",
    "\n",
    "   "
   ]
  },
  {
   "cell_type": "code",
   "execution_count": 6,
   "metadata": {},
   "outputs": [
    {
     "ename": "NameError",
     "evalue": "name 'mylist' is not defined",
     "output_type": "error",
     "traceback": [
      "\u001b[1;31m---------------------------------------------------------------------------\u001b[0m",
      "\u001b[1;31mNameError\u001b[0m                                 Traceback (most recent call last)",
      "\u001b[1;32m<ipython-input-6-04943b3f0233>\u001b[0m in \u001b[0;36m<module>\u001b[1;34m\u001b[0m\n\u001b[0;32m      2\u001b[0m \u001b[1;31m#The del keyword can also delete the list completely:\u001b[0m\u001b[1;33m\u001b[0m\u001b[1;33m\u001b[0m\u001b[1;33m\u001b[0m\u001b[0m\n\u001b[0;32m      3\u001b[0m \u001b[1;32mdel\u001b[0m \u001b[0mmylist\u001b[0m\u001b[1;33m\u001b[0m\u001b[1;33m\u001b[0m\u001b[0m\n\u001b[1;32m----> 4\u001b[1;33m \u001b[0mprint\u001b[0m\u001b[1;33m(\u001b[0m\u001b[0mmylist\u001b[0m\u001b[1;33m)\u001b[0m\u001b[1;33m\u001b[0m\u001b[1;33m\u001b[0m\u001b[0m\n\u001b[0m",
      "\u001b[1;31mNameError\u001b[0m: name 'mylist' is not defined"
     ]
    }
   ],
   "source": [
    "#delete an element in the list or delete list completely \n",
    "#The del keyword can also delete the list completely:\n",
    "del mylist\n",
    "print(mylist)\n"
   ]
  },
  {
   "cell_type": "code",
   "execution_count": null,
   "metadata": {},
   "outputs": [],
   "source": []
  }
 ],
 "metadata": {
  "kernelspec": {
   "display_name": "Python 3",
   "language": "python",
   "name": "python3"
  },
  "language_info": {
   "codemirror_mode": {
    "name": "ipython",
    "version": 3
   },
   "file_extension": ".py",
   "mimetype": "text/x-python",
   "name": "python",
   "nbconvert_exporter": "python",
   "pygments_lexer": "ipython3",
   "version": "3.7.4"
  }
 },
 "nbformat": 4,
 "nbformat_minor": 2
}
