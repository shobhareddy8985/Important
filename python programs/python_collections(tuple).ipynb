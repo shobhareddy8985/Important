{
 "cells": [
  {
   "cell_type": "markdown",
   "metadata": {},
   "source": [
    "# Tuple:\n",
    "A tuple is a collection which is ordered and unchangeable\n",
    "\n"
   ]
  },
  {
   "cell_type": "code",
   "execution_count": 2,
   "metadata": {},
   "outputs": [
    {
     "name": "stdout",
     "output_type": "stream",
     "text": [
      "5\n",
      "('shobha', 'geetha', 'chandu', 'shanthi', 'shobha')\n"
     ]
    }
   ],
   "source": [
    "mytuple= ('shobha','geetha','chandu','shanthi','shobha')\n",
    " \n",
    "print(len(mytuple))\n",
    "\n",
    "print(mytuple)\n",
    "\n",
    "\n"
   ]
  },
  {
   "cell_type": "markdown",
   "metadata": {},
   "source": [
    "# adding an item to the tuple : \n",
    "Once a tuple is created, you cannot add items to it. \n",
    "Tuples are unchangeable."
   ]
  },
  {
   "cell_type": "code",
   "execution_count": 4,
   "metadata": {},
   "outputs": [
    {
     "ename": "TypeError",
     "evalue": "'tuple' object does not support item assignment",
     "output_type": "error",
     "traceback": [
      "\u001b[1;31m---------------------------------------------------------------------------\u001b[0m",
      "\u001b[1;31mTypeError\u001b[0m                                 Traceback (most recent call last)",
      "\u001b[1;32m<ipython-input-4-0e68dcac7fc9>\u001b[0m in \u001b[0;36m<module>\u001b[1;34m\u001b[0m\n\u001b[0;32m      1\u001b[0m \u001b[1;31m#adding an item to the tuple\u001b[0m\u001b[1;33m\u001b[0m\u001b[1;33m\u001b[0m\u001b[1;33m\u001b[0m\u001b[0m\n\u001b[1;32m----> 2\u001b[1;33m \u001b[0mmytuple\u001b[0m\u001b[1;33m[\u001b[0m\u001b[1;36m5\u001b[0m\u001b[1;33m]\u001b[0m \u001b[1;33m=\u001b[0m \u001b[1;34m'lakshmi'\u001b[0m\u001b[1;33m\u001b[0m\u001b[1;33m\u001b[0m\u001b[0m\n\u001b[0m\u001b[0;32m      3\u001b[0m \u001b[0mprint\u001b[0m\u001b[1;33m(\u001b[0m\u001b[0mmytuple\u001b[0m\u001b[1;33m)\u001b[0m\u001b[1;33m\u001b[0m\u001b[1;33m\u001b[0m\u001b[0m\n",
      "\u001b[1;31mTypeError\u001b[0m: 'tuple' object does not support item assignment"
     ]
    }
   ],
   "source": [
    "\n",
    "mytuple[5] = 'lakshmi'\n",
    "print(mytuple)"
   ]
  },
  {
   "cell_type": "markdown",
   "metadata": {},
   "source": [
    "# Change Tuple Values\n",
    "Once a tuple is created, you cannot change its values. Tuples are unchangeable, or immutable as it also is called.\n",
    "\n",
    "we can assign/convert a tuple to a list "
   ]
  },
  {
   "cell_type": "code",
   "execution_count": 8,
   "metadata": {},
   "outputs": [
    {
     "name": "stdout",
     "output_type": "stream",
     "text": [
      "('shobha', 'geetha', 'chandu', 'shanthi')\n",
      "['shobha', 'geetha', 'chandu', 'shanthi']\n",
      "['shobha', 'geetha', 'chandu', 'shanthi', 'devansh']\n"
     ]
    }
   ],
   "source": [
    "mytuple1 = ('shobha','geetha','chandu','shanthi')\n",
    "\n",
    "print(mytuple1)\n",
    "# list() will convert tuple to a list \n",
    "mylist = list(mytuple1)\n",
    "\n",
    "#below is the elements in a tuple are displayed as list\n",
    "print(mylist)\n",
    "\n",
    "#after converting we can add elements to a list.\n",
    "mylist.append('devansh')\n",
    "\n",
    "print(mylist)\n"
   ]
  },
  {
   "cell_type": "markdown",
   "metadata": {},
   "source": [
    "# Display the tuple"
   ]
  },
  {
   "cell_type": "code",
   "execution_count": 14,
   "metadata": {},
   "outputs": [
    {
     "name": "stdout",
     "output_type": "stream",
     "text": [
      "('shobha', 'geetha', 'chandu', 'shanthi')\n",
      "geetha\n",
      "('geetha', 'chandu', 'shanthi')\n",
      "shanthi\n"
     ]
    }
   ],
   "source": [
    "\n",
    "\n",
    "print(mytuple1)\n",
    "\n",
    "print(mytuple1[1])\n",
    "\n",
    "print(mytuple1[1:4 ])\n",
    "\n",
    "print(mytuple1[-1])"
   ]
  },
  {
   "cell_type": "code",
   "execution_count": 17,
   "metadata": {},
   "outputs": [
    {
     "name": "stdout",
     "output_type": "stream",
     "text": [
      "('shobha', 'geetha', 'chandu', 'shanthi')\n"
     ]
    },
    {
     "ename": "NameError",
     "evalue": "name 'mytuple1' is not defined",
     "output_type": "error",
     "traceback": [
      "\u001b[1;31m---------------------------------------------------------------------------\u001b[0m",
      "\u001b[1;31mNameError\u001b[0m                                 Traceback (most recent call last)",
      "\u001b[1;32m<ipython-input-17-238f42a17a14>\u001b[0m in \u001b[0;36m<module>\u001b[1;34m\u001b[0m\n\u001b[0;32m      7\u001b[0m \u001b[1;32mdel\u001b[0m \u001b[0mmytuple1\u001b[0m\u001b[1;33m\u001b[0m\u001b[1;33m\u001b[0m\u001b[0m\n\u001b[0;32m      8\u001b[0m \u001b[1;33m\u001b[0m\u001b[0m\n\u001b[1;32m----> 9\u001b[1;33m \u001b[0mprint\u001b[0m\u001b[1;33m(\u001b[0m\u001b[0mmytuple1\u001b[0m\u001b[1;33m)\u001b[0m\u001b[1;33m\u001b[0m\u001b[1;33m\u001b[0m\u001b[0m\n\u001b[0m",
      "\u001b[1;31mNameError\u001b[0m: name 'mytuple1' is not defined"
     ]
    }
   ],
   "source": [
    "# delete the tuple : \n",
    "\n",
    "#  tuples are unchangable so we can't remove an element from tuplesbut we can delete entre tuple\n",
    "\n",
    "print(mytuple1)\n",
    "\n",
    "del mytuple1\n",
    "\n",
    "print(mytuple1)  #Raises an error."
   ]
  },
  {
   "cell_type": "code",
   "execution_count": null,
   "metadata": {},
   "outputs": [],
   "source": []
  }
 ],
 "metadata": {
  "kernelspec": {
   "display_name": "Python 3",
   "language": "python",
   "name": "python3"
  },
  "language_info": {
   "codemirror_mode": {
    "name": "ipython",
    "version": 3
   },
   "file_extension": ".py",
   "mimetype": "text/x-python",
   "name": "python",
   "nbconvert_exporter": "python",
   "pygments_lexer": "ipython3",
   "version": "3.7.4"
  }
 },
 "nbformat": 4,
 "nbformat_minor": 2
}
