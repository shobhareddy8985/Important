{
 "cells": [
  {
   "cell_type": "markdown",
   "metadata": {},
   "source": [
    "# Dictionary\n",
    "\n",
    "A dictionary is a collection which is unordered, changeable and indexed. \n",
    "In Python dictionaries are written with curly brackets, and they have keys and values.\n",
    "\n",
    "No duplicates"
   ]
  },
  {
   "cell_type": "code",
   "execution_count": 1,
   "metadata": {},
   "outputs": [
    {
     "name": "stdout",
     "output_type": "stream",
     "text": [
      "{'name': 'shobha', 'age': 25}\n",
      "{'name': 'geetha', 'age': 23}\n",
      "shobha\n",
      "geetha\n",
      "24\n"
     ]
    }
   ],
   "source": [
    "# creation\n",
    "\n",
    "mydict = {\n",
    "    \"name\":\"shobha\",\n",
    "    \"age\": 25    \n",
    "}\n",
    "\n",
    "\n",
    "mydict1 = {\n",
    "    'name':'geetha',\n",
    "    'age': 23   \n",
    "}\n",
    "\n",
    "\n",
    "\n",
    "# acessing elements\n",
    "\n",
    "print(mydict)\n",
    "\n",
    "print(mydict1)\n",
    "\n",
    "print(mydict[\"name\"])\n",
    "\n",
    "print(mydict1.get(\"name\"))\n",
    "\n",
    "# changing the values\n",
    "\n",
    "mydict[\"age\"] = 24\n",
    "\n",
    "print(mydict[\"age\"])\n",
    "\n"
   ]
  },
  {
   "cell_type": "code",
   "execution_count": null,
   "metadata": {},
   "outputs": [],
   "source": [
    "# loop the elements in dict"
   ]
  },
  {
   "cell_type": "code",
   "execution_count": 59,
   "metadata": {},
   "outputs": [
    {
     "name": "stdout",
     "output_type": "stream",
     "text": [
      "name\n",
      "age\n",
      "shobha\n",
      "24\n",
      "geetha\n",
      "23\n",
      "name geetha\n",
      "age 23\n",
      "('name', 'geetha')\n",
      "('age', 23)\n"
     ]
    }
   ],
   "source": [
    "# to print only the key names of dict\n",
    "\n",
    "for x in mydict:\n",
    "\n",
    "     print(x)\n",
    "        \n",
    "# to print  the vales of dict \n",
    "\n",
    "for x in mydict:\n",
    "\n",
    "    print(mydict[x])     \n",
    "    \n",
    "for x in mydict1.values():\n",
    "         print(x)    \n",
    "\n",
    "#Loop through both keys and values, by using the items() function:\n",
    "for x,y in mydict1.items():\n",
    "         print(x,y) \n",
    "\n",
    "        #or#\n",
    "for x in mydict1.items():\n",
    "         print(x) "
   ]
  },
  {
   "cell_type": "code",
   "execution_count": 60,
   "metadata": {},
   "outputs": [
    {
     "name": "stdout",
     "output_type": "stream",
     "text": [
      "{'name': 'geetha', 'age': 23, 'color': 'blue'}\n",
      "{'name': 'geetha', 'age': '23', 'color': 'blue'}\n",
      "{'name': 'geetha', 'color': 'blue'}\n",
      "{'name': 'geetha', 'color': 'blue'}\n",
      "{'name': 'shobha', 'age': 24}\n",
      "{'name': 'shobha', 'age': 24}\n"
     ]
    },
    {
     "ename": "NameError",
     "evalue": "name 'mydict' is not defined",
     "output_type": "error",
     "traceback": [
      "\u001b[1;31m---------------------------------------------------------------------------\u001b[0m",
      "\u001b[1;31mNameError\u001b[0m                                 Traceback (most recent call last)",
      "\u001b[1;32m<ipython-input-60-f8ef4ad847a8>\u001b[0m in \u001b[0;36m<module>\u001b[1;34m\u001b[0m\n\u001b[0;32m     31\u001b[0m \u001b[1;32mdel\u001b[0m \u001b[0mmydict\u001b[0m\u001b[1;33m\u001b[0m\u001b[1;33m\u001b[0m\u001b[0m\n\u001b[0;32m     32\u001b[0m \u001b[1;31m# below printf throws error due to dict is deleted in above statement.\u001b[0m\u001b[1;33m\u001b[0m\u001b[1;33m\u001b[0m\u001b[1;33m\u001b[0m\u001b[0m\n\u001b[1;32m---> 33\u001b[1;33m \u001b[0mprint\u001b[0m\u001b[1;33m(\u001b[0m\u001b[0mmydict\u001b[0m\u001b[1;33m)\u001b[0m\u001b[1;33m\u001b[0m\u001b[1;33m\u001b[0m\u001b[0m\n\u001b[0m",
      "\u001b[1;31mNameError\u001b[0m: name 'mydict' is not defined"
     ]
    }
   ],
   "source": [
    "# adding a key value pair to dict\n",
    "\n",
    "mydict1[\"color\"] = \"blue\"\n",
    "print(mydict1)\n",
    "\n",
    "#deleting a key in the dict\n",
    "\n",
    "# The pop() method removes the item with the specified key name:\n",
    "    \n",
    "# The popitem() method removes the last inserted item (in versions before 3.7, a random item is removed instead):\n",
    "\n",
    "\n",
    "\n",
    "mydict1[\"age\"] = \"23\"\n",
    "print(mydict1)\n",
    "\n",
    "mydict1.pop(\"age\")\n",
    "print(mydict1)\n",
    "\n",
    "mydict1[\"age\"] = \"23\"\n",
    "mydict1.popitem()\n",
    "print(mydict1)\n",
    "\n",
    "\n",
    "del mydict1['color']\n",
    "print(mydict)\n",
    "\n",
    "mydict1.clear()\n",
    "print(mydict)\n",
    "\n",
    "del mydict\n",
    "# below printf throws error due to dict is deleted in above statement.\n",
    "print(mydict)  "
   ]
  },
  {
   "cell_type": "code",
   "execution_count": null,
   "metadata": {},
   "outputs": [],
   "source": []
  }
 ],
 "metadata": {
  "kernelspec": {
   "display_name": "Python 3",
   "language": "python",
   "name": "python3"
  },
  "language_info": {
   "codemirror_mode": {
    "name": "ipython",
    "version": 3
   },
   "file_extension": ".py",
   "mimetype": "text/x-python",
   "name": "python",
   "nbconvert_exporter": "python",
   "pygments_lexer": "ipython3",
   "version": "3.7.4"
  }
 },
 "nbformat": 4,
 "nbformat_minor": 2
}
